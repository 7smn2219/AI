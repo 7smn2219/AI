{
  "nbformat": 4,
  "nbformat_minor": 0,
  "metadata": {
    "colab": {
      "provenance": [],
      "authorship_tag": "ABX9TyOG1j0gpkdOG+SQIHol+WhX",
      "include_colab_link": true
    },
    "kernelspec": {
      "name": "python3",
      "display_name": "Python 3"
    },
    "language_info": {
      "name": "python"
    }
  },
  "cells": [
    {
      "cell_type": "markdown",
      "metadata": {
        "id": "view-in-github",
        "colab_type": "text"
      },
      "source": [
        "<a href=\"https://colab.research.google.com/github/7smn2219/AI/blob/main/TF/Ranking/ranking_recommendation.ipynb\" target=\"_parent\"><img src=\"https://colab.research.google.com/assets/colab-badge.svg\" alt=\"Open In Colab\"/></a>"
      ]
    },
    {
      "cell_type": "code",
      "source": [
        "!pip install -q tensorflow-ranking\n",
        "# !pip install -q --upgrade tensorflow-datasets"
      ],
      "metadata": {
        "id": "GYbkSlkh_FwP",
        "outputId": "2deeb131-ecb3-4d98-d457-7a8558dd68a0",
        "colab": {
          "base_uri": "https://localhost:8080/"
        }
      },
      "execution_count": 1,
      "outputs": [
        {
          "output_type": "stream",
          "name": "stdout",
          "text": [
            "\u001b[33mWARNING: Ignoring invalid distribution -ensorflow (/usr/local/lib/python3.10/dist-packages)\u001b[0m\u001b[33m\n",
            "\u001b[0m\u001b[33mWARNING: Ignoring invalid distribution -ensorflow (/usr/local/lib/python3.10/dist-packages)\u001b[0m\u001b[33m\n",
            "\u001b[0m\u001b[31mERROR: pip's dependency resolver does not currently take into account all the packages that are installed. This behaviour is the source of the following dependency conflicts.\n",
            "tf-keras 2.17.0 requires tensorflow<2.18,>=2.17, but you have tensorflow 2.15.1 which is incompatible.\u001b[0m\u001b[31m\n",
            "\u001b[0m"
          ]
        }
      ]
    },
    {
      "cell_type": "code",
      "source": [
        "from typing import Dict, Tuple\n",
        "\n",
        "import tensorflow as tf\n",
        "import tensorflow_datasets as tfds\n",
        "import tensorflow_ranking as tfr\n",
        "\n"
      ],
      "metadata": {
        "id": "LbPAT61T11K4"
      },
      "execution_count": 2,
      "outputs": []
    },
    {
      "cell_type": "code",
      "execution_count": 3,
      "metadata": {
        "id": "M24Nguec016o"
      },
      "outputs": [],
      "source": [
        "# data_link = \"https://grouplens.org/datasets/movielens/100k/{ratings, movies}\"\n",
        "\n",
        "ratings = tfds.load('movielens/100k-ratings', split=\"train\")\n",
        "movies = tfds.load('movielens/100k-movies', split=\"train\")\n",
        "\n",
        "ratings = ratings.map(lambda x : {\n",
        "    \"movie_title\" : x[\"movie_title\"],\n",
        "    \"user_id\" : x[\"user_id\"],\n",
        "    \"user_rating\" : x[\"user_rating\"]\n",
        "})\n",
        "\n",
        "# movies = movies.map(lambda x : {\n",
        "#     \"movie_title\" : x[\"movie_title\"],\n",
        "# })"
      ]
    },
    {
      "cell_type": "code",
      "source": [
        "print(ratings)\n",
        "print(movies)"
      ],
      "metadata": {
        "id": "U1GzHAtw4rJq",
        "outputId": "90787c99-c1d4-4500-b5b9-c1da6af2af06",
        "colab": {
          "base_uri": "https://localhost:8080/"
        }
      },
      "execution_count": 4,
      "outputs": [
        {
          "output_type": "stream",
          "name": "stdout",
          "text": [
            "<_MapDataset element_spec={'movie_title': TensorSpec(shape=(), dtype=tf.string, name=None), 'user_id': TensorSpec(shape=(), dtype=tf.string, name=None), 'user_rating': TensorSpec(shape=(), dtype=tf.float32, name=None)}>\n",
            "<_PrefetchDataset element_spec={'movie_genres': TensorSpec(shape=(None,), dtype=tf.int64, name=None), 'movie_id': TensorSpec(shape=(), dtype=tf.string, name=None), 'movie_title': TensorSpec(shape=(), dtype=tf.string, name=None)}>\n"
          ]
        }
      ]
    },
    {
      "cell_type": "code",
      "source": [
        "movies = movies.map(lambda x : x[\"movie_title\"])\n",
        "users = ratings.map(lambda x: x[\"user_id\"])\n",
        "\n",
        "user_ids_vocabulary = tf.keras.layers.StringLookup(mask_token=None)\n",
        "user_ids_vocabulary.adapt(users.batch(1000))\n",
        "\n",
        "movies_titles_vocabulary = tf.keras.layers.StringLookup(mask_token=None)\n",
        "movies_titles_vocabulary.adapt(movies.batch(1000))"
      ],
      "metadata": {
        "id": "5iGT8vNb2AcV"
      },
      "execution_count": 5,
      "outputs": []
    },
    {
      "cell_type": "code",
      "source": [
        "key_func = lambda x : user_ids_vocabulary(x[\"user_id\"])\n",
        "reduce_func = lambda key, dataset : dataset.batch(100)\n",
        "\n",
        "ds_train = ratings.group_by_window(\n",
        "    key_func=key_func,\n",
        "    reduce_func=reduce_func,\n",
        "    window_size=100\n",
        ")"
      ],
      "metadata": {
        "id": "8r5c35RC4H_o"
      },
      "execution_count": 6,
      "outputs": []
    },
    {
      "cell_type": "code",
      "source": [
        "for x in ds_train.take(1):\n",
        "  for key, value in x.items():\n",
        "    print(f\"Shape of {key} : {value.shape}\")\n",
        "    print(f\"Example values of {key} : {value[:5].numpy()}\")\n",
        "    print()\n",
        "\n",
        "\n",
        "'''\n",
        "Shape of movie_title : (100,)\n",
        "Example values of movie_title : [b'Man Who Would Be King, The (1975)' b'Silence of the Lambs, The (1991)'\n",
        " b'Next Karate Kid, The (1994)' b'2001: A Space Odyssey (1968)'\n",
        " b'Usual Suspects, The (1995)']\n",
        "\n",
        "Shape of user_id : (100,)\n",
        "Example values of user_id : [b'405' b'405' b'405' b'405' b'405']\n",
        "\n",
        "Shape of rating : (100,)\n",
        "Example values of rating : [1. 4. 1. 5. 5.]\n",
        "'''"
      ],
      "metadata": {
        "id": "Dl5a0DB-57fN",
        "outputId": "5817d4f2-ec27-4df8-fabf-e4171fc50f91",
        "colab": {
          "base_uri": "https://localhost:8080/",
          "height": 333
        }
      },
      "execution_count": 7,
      "outputs": [
        {
          "output_type": "stream",
          "name": "stdout",
          "text": [
            "Shape of movie_title : (100,)\n",
            "Example values of movie_title : [b'Man Who Would Be King, The (1975)' b'Silence of the Lambs, The (1991)'\n",
            " b'Next Karate Kid, The (1994)' b'2001: A Space Odyssey (1968)'\n",
            " b'Usual Suspects, The (1995)']\n",
            "\n",
            "Shape of user_id : (100,)\n",
            "Example values of user_id : [b'405' b'405' b'405' b'405' b'405']\n",
            "\n",
            "Shape of user_rating : (100,)\n",
            "Example values of user_rating : [1. 4. 1. 5. 5.]\n",
            "\n"
          ]
        },
        {
          "output_type": "execute_result",
          "data": {
            "text/plain": [
              "\"\\nShape of movie_title : (100,)\\nExample values of movie_title : [b'Man Who Would Be King, The (1975)' b'Silence of the Lambs, The (1991)'\\n b'Next Karate Kid, The (1994)' b'2001: A Space Odyssey (1968)'\\n b'Usual Suspects, The (1995)']\\n\\nShape of user_id : (100,)\\nExample values of user_id : [b'405' b'405' b'405' b'405' b'405']\\n\\nShape of rating : (100,)\\nExample values of rating : [1. 4. 1. 5. 5.]\\n\""
            ],
            "application/vnd.google.colaboratory.intrinsic+json": {
              "type": "string"
            }
          },
          "metadata": {},
          "execution_count": 7
        }
      ]
    },
    {
      "cell_type": "code",
      "source": [
        "def _features_and_labels(x: Dict[str, tf.Tensor]) -> Tuple[Dict[str, tf.Tensor], tf.Tensor]:\n",
        "  labels = x.pop(\"user_rating\")\n",
        "  return x, labels\n",
        "\n",
        "ds_train = ds_train.map(_features_and_labels)\n",
        "ds_train = ds_train.apply(tf.data.experimental.dense_to_ragged_batch(batch_size=32))"
      ],
      "metadata": {
        "id": "LmG-APvE7iFv",
        "outputId": "158ab59c-7cdf-42d5-be7a-42c780b6749f",
        "colab": {
          "base_uri": "https://localhost:8080/"
        }
      },
      "execution_count": 8,
      "outputs": [
        {
          "output_type": "stream",
          "name": "stderr",
          "text": [
            "WARNING:tensorflow:From <ipython-input-8-f6758d409856>:6: dense_to_ragged_batch (from tensorflow.python.data.experimental.ops.batching) is deprecated and will be removed in a future version.\n",
            "Instructions for updating:\n",
            "Use `tf.data.Dataset.ragged_batch` instead.\n"
          ]
        }
      ]
    },
    {
      "cell_type": "code",
      "source": [
        "for x, labels in ds_train.take(1):\n",
        "  for key, value in x.items():\n",
        "    print(f\"Shape of {key} : {value.shape}\")\n",
        "    print(f\"Example values of {key} : {value[:3, :3].numpy()}\")\n",
        "    print()\n",
        "  print(f\"Shape of labels : {labels.shape}\")\n",
        "  print(f\"Example values of labels : {labels[:3, :3].numpy()}\")\n",
        "\n",
        "'''\n",
        "Shape of movie_title : (32, None)\n",
        "Example values of movie_title : [[b'Man Who Would Be King, The (1975)'\n",
        "  b'Silence of the Lambs, The (1991)' b'Next Karate Kid, The (1994)']\n",
        " [b'Flower of My Secret, The (Flor de mi secreto, La) (1995)'\n",
        "  b'Little Princess, The (1939)' b'Time to Kill, A (1996)']\n",
        " [b'Kundun (1997)' b'Scream (1996)' b'Power 98 (1995)']]\n",
        "\n",
        "Shape of user_id : (32, None)\n",
        "Example values of user_id : [[b'405' b'405' b'405']\n",
        " [b'655' b'655' b'655']\n",
        " [b'13' b'13' b'13']]\n",
        "\n",
        "Shape of labels : (32, None)\n",
        "Example values of labels : [[1. 4. 1.]\n",
        " [3. 3. 3.]\n",
        " [5. 1. 1.]]\n",
        " '''"
      ],
      "metadata": {
        "id": "ymflFsQs8X1W",
        "outputId": "312a5258-dc08-40f0-ee93-acf6477023a1",
        "colab": {
          "base_uri": "https://localhost:8080/"
        }
      },
      "execution_count": 11,
      "outputs": [
        {
          "output_type": "stream",
          "name": "stdout",
          "text": [
            "Shape of movie_title : (32, None)\n",
            "Example values of movie_title : [[b'Man Who Would Be King, The (1975)'\n",
            "  b'Silence of the Lambs, The (1991)' b'Next Karate Kid, The (1994)']\n",
            " [b'Flower of My Secret, The (Flor de mi secreto, La) (1995)'\n",
            "  b'Little Princess, The (1939)' b'Time to Kill, A (1996)']\n",
            " [b'Kundun (1997)' b'Scream (1996)' b'Power 98 (1995)']]\n",
            "\n",
            "Shape of user_id : (32, None)\n",
            "Example values of user_id : [[b'405' b'405' b'405']\n",
            " [b'655' b'655' b'655']\n",
            " [b'13' b'13' b'13']]\n",
            "\n",
            "Shape of labels : (32, None)\n",
            "Example values of labels : [[1. 4. 1.]\n",
            " [3. 3. 3.]\n",
            " [5. 1. 1.]]\n"
          ]
        }
      ]
    },
    {
      "cell_type": "code",
      "source": [
        "class MovieLensRankingModel(tf.keras.Model):\n",
        "\n",
        "  def __init__(self, user_vocab, movie_vocab):\n",
        "    super().__init__()\n",
        "\n",
        "    # To convert string input to numeric input.\n",
        "    self.user_vocab = user_vocab\n",
        "    self.movie_vocab = movie_vocab\n",
        "    self.user_embed = tf.keras.layers.Embedding(user_vocab.vocabulary_size(), 64)\n",
        "    self.movie_embed = tf.keras.layers.Embedding(movie_vocab.vocabulary_size(), 64)\n",
        "\n",
        "  def call(self, features: Dict[str, tf.Tensor]) -> tf.Tensor:\n",
        "    # define how the ranking score are computed:\n",
        "    # take the dot product of the user embeddings with the movie embeddings\n",
        "\n",
        "    user_embeddings = self.user_embed(self.user_vocab(features[\"user_id\"]))\n",
        "    movie_embeddings = self.movie_embed(self.movie_vocab(features[\"movie_title\"]))\n",
        "\n",
        "    return tf.reduce_sum(user_embeddings * movie_embeddings, axis=2)"
      ],
      "metadata": {
        "id": "w5qzE5awAhuQ"
      },
      "execution_count": 25,
      "outputs": []
    },
    {
      "cell_type": "code",
      "source": [
        "# Create the ranking model, trained with a ranking loss and evaluated with ranking matrics.\n",
        "model = MovieLensRankingModel(user_ids_vocabulary, movies_titles_vocabulary)\n",
        "\n",
        "optimizer = tf.keras.optimizers.Adagrad(0.5)\n",
        "loss = tfr.keras.losses.get(\n",
        "    loss = tfr.keras.losses.RankingLossKey.SOFTMAX_LOSS, ragged=True\n",
        ")\n",
        "eval_matrics = [\n",
        "    tfr.keras.metrics.get(key=\"ndcg\", name=\"metrics/ndcg\", ragged=True),\n",
        "    tfr.keras.metrics.get(key=\"mrr\", name=\"metrics/mrr\", ragged=True)\n",
        "]\n",
        "\n",
        "model.compile(optimizer=optimizer, loss=loss, metrics=eval_matrics)"
      ],
      "metadata": {
        "id": "Rz6u-GumB1K9"
      },
      "execution_count": 26,
      "outputs": []
    },
    {
      "cell_type": "code",
      "source": [
        "model.fit(ds_train, epochs=3)\n",
        "\n",
        "'''\n",
        "[27]\n",
        "32s\n",
        "model.fit(ds_train, epochs=3)\n",
        "Epoch 1/3\n",
        "48/48 [==============================] - 12s 96ms/step - loss: 998.7523 - metrics/ndcg: 0.8261 - metrics/mrr: 1.0000\n",
        "Epoch 2/3\n",
        "48/48 [==============================] - 6s 106ms/step - loss: 997.0770 - metrics/ndcg: 0.9157 - metrics/mrr: 1.0000\n",
        "Epoch 3/3\n",
        "48/48 [==============================] - 6s 95ms/step - loss: 994.8379 - metrics/ndcg: 0.9375 - metrics/mrr: 1.0000\n",
        "<keras.src.callbacks.History at 0x7981efb69360>\n",
        "'''"
      ],
      "metadata": {
        "id": "ETYwxeRFCoe6",
        "outputId": "08015aa7-73c0-4ddc-b481-9489b8525ce7",
        "colab": {
          "base_uri": "https://localhost:8080/"
        }
      },
      "execution_count": 27,
      "outputs": [
        {
          "output_type": "stream",
          "name": "stdout",
          "text": [
            "Epoch 1/3\n",
            "48/48 [==============================] - 12s 96ms/step - loss: 998.7523 - metrics/ndcg: 0.8261 - metrics/mrr: 1.0000\n",
            "Epoch 2/3\n",
            "48/48 [==============================] - 6s 106ms/step - loss: 997.0770 - metrics/ndcg: 0.9157 - metrics/mrr: 1.0000\n",
            "Epoch 3/3\n",
            "48/48 [==============================] - 6s 95ms/step - loss: 994.8379 - metrics/ndcg: 0.9375 - metrics/mrr: 1.0000\n"
          ]
        },
        {
          "output_type": "execute_result",
          "data": {
            "text/plain": [
              "<keras.src.callbacks.History at 0x7981efb69360>"
            ]
          },
          "metadata": {},
          "execution_count": 27
        }
      ]
    },
    {
      "cell_type": "code",
      "source": [
        "# Get moive title candidate list\n",
        "for movie_titles in movies.batch(2000):\n",
        "  break\n",
        "\n",
        "# Generate the input for user 42\n",
        "inputs = {\n",
        "    \"user_id\" : tf.expand_dims(tf.repeat(\"42\", repeats=movie_titles.shape[0]), axis=0),\n",
        "    \"movie_title\" : tf.expand_dims(movie_titles, axis=0)\n",
        "}\n",
        "\n",
        "# Get movie recommendations for user 42\n",
        "scores = model(inputs)\n",
        "titles = tfr.utils.sort_by_scores(scores, [tf.expand_dims(movie_titles, axis=0)])[0]\n",
        "print(f\"Top 5 recommendations for user 42: {titles[0, :5]}\")\n",
        "\n",
        "'''\n",
        "Top 5 recommendations for user 42:\n",
        "[\n",
        "  b'Toy Story (1995)'\n",
        "  b'Aladdin (1992)'\n",
        "  b'Star Wars (1977)'\n",
        "  b\"It's a Wonderful Life (1946)\"\n",
        "  b'Raiders of the Lost Ark (1981)'\n",
        "]\n",
        " '''"
      ],
      "metadata": {
        "id": "NJFKAK6HDGy2",
        "outputId": "951821e8-81e5-486d-b4fe-845695f43741",
        "colab": {
          "base_uri": "https://localhost:8080/"
        }
      },
      "execution_count": 30,
      "outputs": [
        {
          "output_type": "stream",
          "name": "stdout",
          "text": [
            "Top 5 recommendations for user 42: [b'Toy Story (1995)' b'Aladdin (1992)' b'Star Wars (1977)'\n",
            " b\"It's a Wonderful Life (1946)\" b'Raiders of the Lost Ark (1981)']\n"
          ]
        }
      ]
    },
    {
      "cell_type": "code",
      "source": [],
      "metadata": {
        "id": "H67cT3ZxFdqu"
      },
      "execution_count": null,
      "outputs": []
    }
  ]
}